{
 "cells": [
  {
   "cell_type": "markdown",
   "id": "6df9d790-2e9d-4fc8-9f0e-6fb940463f56",
   "metadata": {
    "tags": []
   },
   "source": [
    "# Bland-Altman analysis\n",
    "The functions related to Bland-Altman analysis and generation of plots are adapted from the code written by Dr. Rowan Nicolls\n",
    "https://rowannicholls.github.io/python/statistics/agreement/bland_altman.html"
   ]
  },
  {
   "cell_type": "code",
   "execution_count": 1,
   "id": "317c87a6-739c-4a55-bfc2-0575ae5fe3d3",
   "metadata": {
    "tags": []
   },
   "outputs": [],
   "source": [
    "from skimage.io import imread, imsave\n",
    "import pyclesperanto_prototype as cle\n",
    "import napari\n",
    "import os\n",
    "import numpy as np\n",
    "import pandas as pd\n",
    "from aicsimageio import AICSImage\n",
    "from skimage.feature import peak_local_max\n",
    "import warnings\n",
    "import matplotlib.pyplot as plt\n",
    "import scipy.stats as st"
   ]
  },
  {
   "cell_type": "code",
   "execution_count": 2,
   "id": "8a160fb4-2c28-4c56-b88c-c8f83a47fcdf",
   "metadata": {
    "tags": []
   },
   "outputs": [],
   "source": [
    "def segmentation(image, threshold):\n",
    "    \n",
    "    #Noise removal\n",
    "    g_blur = cle.gaussian_blur(image, sigma_x=1, sigma_y=1, sigma_z=1)\n",
    "    \n",
    "    #background subtracton\n",
    "    background_subtracted = np.asarray(cle.top_hat_box(g_blur, radius_x=2*3, radius_y=2*3, radius_z=2*3))\n",
    "    del g_blur\n",
    "    \n",
    "    #threshold = threshold_otsu(background_subtracted)\n",
    "    peaks = peak_local_max(background_subtracted, threshold_abs=threshold, min_distance=2)\n",
    "    \n",
    "    # Find local peaks above the specified threshold\n",
    "    spots = cle.create(image.shape, dtype=np.uint32)\n",
    "    peaks = peaks[:,::-1]\n",
    "        \n",
    "    # Convert the list of peaks to a labeled image\n",
    "    labeled_spots = cle.pointlist_to_labelled_spots(peaks.T, spots)\n",
    "    \n",
    "    # Expand the labeled spots by a certain radius\n",
    "    expanded_labels = cle.dilate_labels(labeled_spots, radius=5)\n",
    "    \n",
    "    #Create a binary mask where all pixels above half of the maximum intensity in each labels are 1\n",
    "    #This is done to perform full-width half-maxima for estimating foci boundary\n",
    "    threshold_map = cle.maximum_intensity_map(background_subtracted, expanded_labels) / 2\n",
    "    thresholded_image = np.asarray(background_subtracted) > np.asarray(threshold_map)\n",
    "    \n",
    "    labeled_foci = (expanded_labels * thresholded_image).astype(np.uint32)\n",
    "    \n",
    "    #Exclude small labels\n",
    "    output_labels = cle.exclude_small_labels(labeled_foci, None, 10.0)\n",
    "    \n",
    "    del peaks\n",
    "    del background_subtracted\n",
    "    del spots\n",
    "    del labeled_spots\n",
    "    del labeled_whatever\n",
    "    del expanded_labels\n",
    "    del threshold_map\n",
    "    del thresholded_image\n",
    "    del image\n",
    "    \n",
    "    return output_labels"
   ]
  },
  {
   "cell_type": "code",
   "execution_count": 3,
   "id": "1bec0342-2caf-4afd-954d-26536568d1d7",
   "metadata": {},
   "outputs": [],
   "source": [
    "def measure_foci_count(BA_folder, threshold):\n",
    "    y=[]\n",
    "\n",
    "    for file_name in file_names:\n",
    "        if file_name.endswith('.tif'):\n",
    "            image_path = os.path.join(BA_folder, file_name)\n",
    "            img = AICSImage(image_path)\n",
    "            img_data =  img.get_image_data(\"ZYX\", T=0, C=0)\n",
    "            labels = segmentation(img_data, threshold)\n",
    "            y.append(labels.max())\n",
    "            \n",
    "    y = pd.DataFrame([int(i) for i in y], columns= [str(threshold)])\n",
    "    return y"
   ]
  },
  {
   "cell_type": "code",
   "execution_count": 4,
   "id": "49ef7adf-52ac-45d4-a75a-a845407453a1",
   "metadata": {},
   "outputs": [],
   "source": [
    "def bland_altman_analysis(df):\n",
    "    \"\"\"Calculate agreement statistics.\"\"\"\n",
    "    tests = list(df)\n",
    "\n",
    "    # Individual subject calculations\n",
    "    df['Means'] = df[tests].mean(axis=1)\n",
    "    df['Differences'] = df[tests].diff(axis=1)[tests[-1]]\n",
    "    df['s'] = df[tests].std(axis=1, ddof=1)\n",
    "    df['var'] = df['s']**2\n",
    "\n",
    "    # Whole sample calculations\n",
    "    summary = pd.DataFrame()\n",
    "    means = ['Mean of ' + test for test in tests]\n",
    "    for i, mean in enumerate(means):\n",
    "        summary.loc[1, mean] = df[tests[i]].mean()\n",
    "    # Sample size\n",
    "    summary.loc[1, 'n'] = df.shape[0]\n",
    "    # Degrees of freedom\n",
    "    summary.loc[1, 'DOF'] = df.shape[0] - 1\n",
    "    # Bias (mean difference)\n",
    "    mean_diff = df['Differences'].mean()\n",
    "    summary.loc[1, 'Bias'] = mean_diff\n",
    "    # Sample standard deviations of the differences\n",
    "    s_diff = df['Differences'].std(ddof=1)\n",
    "    summary.loc[1, 's'] = s_diff\n",
    "    summary.loc[1, 'Lower LOA'] = mean_diff - 1.96 * s_diff\n",
    "    summary.loc[1, 'Upper LOA'] = mean_diff + 1.96 * s_diff\n",
    "    # Within-subject standard deviation\n",
    "    s_w = np.sqrt(df['var'].mean())\n",
    "    summary.loc[1, 'Within-Subject SD (Sw)'] = s_w\n",
    "    # Coefficient of repeatability\n",
    "    col = 'Repeatability Coefficient (RC)'\n",
    "    summary.loc[1, col] = np.sqrt(2) * 1.96 * s_w\n",
    "\n",
    "    # Return\n",
    "    return df, summary"
   ]
  },
  {
   "cell_type": "code",
   "execution_count": 5,
   "id": "1aaadb74-5b51-41f1-be63-9216f43adaa3",
   "metadata": {},
   "outputs": [],
   "source": [
    "BA_folder = r'C:\\Nisarg\\Thesis\\Data\\Bland-Altman\\W33'"
   ]
  },
  {
   "cell_type": "code",
   "execution_count": 6,
   "id": "028d17ba-6d3d-45d2-be95-a38c11d0086a",
   "metadata": {},
   "outputs": [
    {
     "name": "stdout",
     "output_type": "stream",
     "text": [
      "   true_labels\n",
      "0            2\n",
      "1           25\n",
      "2            2\n",
      "3            2\n",
      "4           12\n",
      "5            9\n",
      "6            5\n",
      "7           13\n",
      "8           10\n",
      "9            8\n"
     ]
    }
   ],
   "source": [
    "#Counting number of foci in manually annotated crops\n",
    "\n",
    "file_names = os.listdir(BA_folder)\n",
    "x=[]\n",
    "\n",
    "warnings.filterwarnings(\"ignore\")  #This line is only here to create proper presentation of results\n",
    "\n",
    "for file_name in file_names:\n",
    "    if file_name.endswith('.csv'):\n",
    "        x.append(np.atleast_1d(np.recfromtxt(os.path.join(BA_folder, file_name))).shape[0])\n",
    "        \n",
    "true_labels_df = pd.DataFrame(x, columns=['true_labels'])\n",
    "print(true_labels_df)"
   ]
  },
  {
   "cell_type": "code",
   "execution_count": 7,
   "id": "b9936595-54b3-4437-9ed8-d87bdcefdc68",
   "metadata": {
    "tags": []
   },
   "outputs": [],
   "source": [
    "threshold_list = [0.02, 0.03, 0.04, 0.05, 0.06, 0.07, 0.08, 0.09, 0.1]"
   ]
  },
  {
   "cell_type": "code",
   "execution_count": 8,
   "id": "4519ebb5-bac3-40c7-b8a7-8b7119d71f49",
   "metadata": {
    "tags": []
   },
   "outputs": [
    {
     "data": {
      "text/html": [
       "<div>\n",
       "<style scoped>\n",
       "    .dataframe tbody tr th:only-of-type {\n",
       "        vertical-align: middle;\n",
       "    }\n",
       "\n",
       "    .dataframe tbody tr th {\n",
       "        vertical-align: top;\n",
       "    }\n",
       "\n",
       "    .dataframe thead th {\n",
       "        text-align: right;\n",
       "    }\n",
       "</style>\n",
       "<table border=\"1\" class=\"dataframe\">\n",
       "  <thead>\n",
       "    <tr style=\"text-align: right;\">\n",
       "      <th></th>\n",
       "      <th>0.02</th>\n",
       "      <th>0.03</th>\n",
       "      <th>0.04</th>\n",
       "      <th>0.05</th>\n",
       "      <th>0.06</th>\n",
       "      <th>0.07</th>\n",
       "      <th>0.08</th>\n",
       "      <th>0.09</th>\n",
       "      <th>0.1</th>\n",
       "      <th>true_labels</th>\n",
       "    </tr>\n",
       "  </thead>\n",
       "  <tbody>\n",
       "    <tr>\n",
       "      <th>0</th>\n",
       "      <td>46</td>\n",
       "      <td>7</td>\n",
       "      <td>2</td>\n",
       "      <td>2</td>\n",
       "      <td>2</td>\n",
       "      <td>2</td>\n",
       "      <td>2</td>\n",
       "      <td>2</td>\n",
       "      <td>2</td>\n",
       "      <td>2</td>\n",
       "    </tr>\n",
       "    <tr>\n",
       "      <th>1</th>\n",
       "      <td>28</td>\n",
       "      <td>26</td>\n",
       "      <td>22</td>\n",
       "      <td>18</td>\n",
       "      <td>17</td>\n",
       "      <td>16</td>\n",
       "      <td>11</td>\n",
       "      <td>11</td>\n",
       "      <td>9</td>\n",
       "      <td>25</td>\n",
       "    </tr>\n",
       "    <tr>\n",
       "      <th>2</th>\n",
       "      <td>38</td>\n",
       "      <td>6</td>\n",
       "      <td>1</td>\n",
       "      <td>1</td>\n",
       "      <td>1</td>\n",
       "      <td>1</td>\n",
       "      <td>1</td>\n",
       "      <td>1</td>\n",
       "      <td>1</td>\n",
       "      <td>2</td>\n",
       "    </tr>\n",
       "    <tr>\n",
       "      <th>3</th>\n",
       "      <td>39</td>\n",
       "      <td>9</td>\n",
       "      <td>2</td>\n",
       "      <td>2</td>\n",
       "      <td>2</td>\n",
       "      <td>2</td>\n",
       "      <td>2</td>\n",
       "      <td>2</td>\n",
       "      <td>2</td>\n",
       "      <td>2</td>\n",
       "    </tr>\n",
       "    <tr>\n",
       "      <th>4</th>\n",
       "      <td>11</td>\n",
       "      <td>9</td>\n",
       "      <td>7</td>\n",
       "      <td>6</td>\n",
       "      <td>5</td>\n",
       "      <td>5</td>\n",
       "      <td>4</td>\n",
       "      <td>3</td>\n",
       "      <td>2</td>\n",
       "      <td>12</td>\n",
       "    </tr>\n",
       "    <tr>\n",
       "      <th>5</th>\n",
       "      <td>39</td>\n",
       "      <td>13</td>\n",
       "      <td>11</td>\n",
       "      <td>10</td>\n",
       "      <td>10</td>\n",
       "      <td>10</td>\n",
       "      <td>10</td>\n",
       "      <td>9</td>\n",
       "      <td>9</td>\n",
       "      <td>9</td>\n",
       "    </tr>\n",
       "    <tr>\n",
       "      <th>6</th>\n",
       "      <td>44</td>\n",
       "      <td>9</td>\n",
       "      <td>5</td>\n",
       "      <td>5</td>\n",
       "      <td>5</td>\n",
       "      <td>5</td>\n",
       "      <td>5</td>\n",
       "      <td>5</td>\n",
       "      <td>3</td>\n",
       "      <td>5</td>\n",
       "    </tr>\n",
       "    <tr>\n",
       "      <th>7</th>\n",
       "      <td>16</td>\n",
       "      <td>14</td>\n",
       "      <td>12</td>\n",
       "      <td>10</td>\n",
       "      <td>10</td>\n",
       "      <td>9</td>\n",
       "      <td>7</td>\n",
       "      <td>7</td>\n",
       "      <td>7</td>\n",
       "      <td>13</td>\n",
       "    </tr>\n",
       "    <tr>\n",
       "      <th>8</th>\n",
       "      <td>10</td>\n",
       "      <td>10</td>\n",
       "      <td>9</td>\n",
       "      <td>9</td>\n",
       "      <td>7</td>\n",
       "      <td>7</td>\n",
       "      <td>7</td>\n",
       "      <td>7</td>\n",
       "      <td>7</td>\n",
       "      <td>10</td>\n",
       "    </tr>\n",
       "    <tr>\n",
       "      <th>9</th>\n",
       "      <td>10</td>\n",
       "      <td>9</td>\n",
       "      <td>8</td>\n",
       "      <td>6</td>\n",
       "      <td>6</td>\n",
       "      <td>6</td>\n",
       "      <td>6</td>\n",
       "      <td>5</td>\n",
       "      <td>4</td>\n",
       "      <td>8</td>\n",
       "    </tr>\n",
       "  </tbody>\n",
       "</table>\n",
       "</div>"
      ],
      "text/plain": [
       "   0.02  0.03  0.04  0.05  0.06  0.07  0.08  0.09  0.1  true_labels\n",
       "0    46     7     2     2     2     2     2     2    2            2\n",
       "1    28    26    22    18    17    16    11    11    9           25\n",
       "2    38     6     1     1     1     1     1     1    1            2\n",
       "3    39     9     2     2     2     2     2     2    2            2\n",
       "4    11     9     7     6     5     5     4     3    2           12\n",
       "5    39    13    11    10    10    10    10     9    9            9\n",
       "6    44     9     5     5     5     5     5     5    3            5\n",
       "7    16    14    12    10    10     9     7     7    7           13\n",
       "8    10    10     9     9     7     7     7     7    7           10\n",
       "9    10     9     8     6     6     6     6     5    4            8"
      ]
     },
     "execution_count": 8,
     "metadata": {},
     "output_type": "execute_result"
    }
   ],
   "source": [
    "#Calculating foci count using thresholds from threshold_list\n",
    "\n",
    "list_of_df = []\n",
    "\n",
    "for threshold in threshold_list:\n",
    "    y = measure_foci_count(BA_folder, threshold)\n",
    "    list_of_df.append(y)\n",
    "    \n",
    "list_of_df.append(true_labels_df)\n",
    "table = pd.concat(list_of_df, axis = 1)\n",
    "table"
   ]
  },
  {
   "cell_type": "code",
   "execution_count": 10,
   "id": "c0784c78-f7a6-4ad5-a487-ac8d3d597f23",
   "metadata": {
    "tags": []
   },
   "outputs": [],
   "source": [
    "#Saving foci count calculated from corresponding threshold\n",
    "table.to_csv('W33_table.csv', index_label='index')"
   ]
  },
  {
   "cell_type": "markdown",
   "id": "9d48c91c-49f8-4cdd-9221-34fa523cbac2",
   "metadata": {
    "tags": []
   },
   "source": [
    "## Extracting the difference of Limits of aggeements from Bland-Altman analysis"
   ]
  },
  {
   "cell_type": "code",
   "execution_count": 9,
   "id": "4692c4bc-528c-45ae-b82d-ca163dcdfb93",
   "metadata": {
    "tags": []
   },
   "outputs": [
    {
     "data": {
      "text/html": [
       "<div>\n",
       "<style scoped>\n",
       "    .dataframe tbody tr th:only-of-type {\n",
       "        vertical-align: middle;\n",
       "    }\n",
       "\n",
       "    .dataframe tbody tr th {\n",
       "        vertical-align: top;\n",
       "    }\n",
       "\n",
       "    .dataframe thead th {\n",
       "        text-align: right;\n",
       "    }\n",
       "</style>\n",
       "<table border=\"1\" class=\"dataframe\">\n",
       "  <thead>\n",
       "    <tr style=\"text-align: right;\">\n",
       "      <th></th>\n",
       "      <th>0.02</th>\n",
       "      <th>0.03</th>\n",
       "      <th>0.04</th>\n",
       "      <th>0.05</th>\n",
       "      <th>0.06</th>\n",
       "      <th>0.07</th>\n",
       "      <th>0.08</th>\n",
       "      <th>0.09</th>\n",
       "      <th>0.1</th>\n",
       "    </tr>\n",
       "  </thead>\n",
       "  <tbody>\n",
       "    <tr>\n",
       "      <th>1</th>\n",
       "      <td>75.290537</td>\n",
       "      <td>11.421194</td>\n",
       "      <td>7.494847</td>\n",
       "      <td>10.526577</td>\n",
       "      <td>11.982924</td>\n",
       "      <td>12.968296</td>\n",
       "      <td>18.575819</td>\n",
       "      <td>18.589601</td>\n",
       "      <td>20.477597</td>\n",
       "    </tr>\n",
       "  </tbody>\n",
       "</table>\n",
       "</div>"
      ],
      "text/plain": [
       "        0.02       0.03      0.04       0.05       0.06       0.07       0.08  \\\n",
       "1  75.290537  11.421194  7.494847  10.526577  11.982924  12.968296  18.575819   \n",
       "\n",
       "        0.09        0.1  \n",
       "1  18.589601  20.477597  "
      ]
     },
     "execution_count": 9,
     "metadata": {},
     "output_type": "execute_result"
    }
   ],
   "source": [
    "warnings.filterwarnings(\"ignore\")  #This line is only here to create proper presentation of results\n",
    "\n",
    "list_of_diff_of_loas_df=[]\n",
    "for i in threshold_list:\n",
    "    df = table[['true_labels', str(i)]]\n",
    "    df, summary = bland_altman_analysis(df)\n",
    "    diff_of_loas_df = pd.DataFrame((summary['Upper LOA'] - summary['Lower LOA']), columns=[str(i)])\n",
    "    list_of_diff_of_loas_df.append(diff_of_loas_df)\n",
    "diff_of_loas_summary = pd.concat(list_of_diff_of_loas_df, axis=1)\n",
    "diff_of_loas_summary"
   ]
  },
  {
   "cell_type": "code",
   "execution_count": 63,
   "id": "50d0c9f9-87e4-4428-ace9-405773310c34",
   "metadata": {
    "tags": []
   },
   "outputs": [],
   "source": [
    "diff_of_loas_summary.to_csv('W33_BA_LoA_summary.csv', index_label='index')"
   ]
  },
  {
   "cell_type": "markdown",
   "id": "8c367af9-d27c-4329-b3ff-d4b75b8efb02",
   "metadata": {
    "tags": []
   },
   "source": [
    "## Generating Bland-Altman plot for optimal threshold"
   ]
  },
  {
   "cell_type": "code",
   "execution_count": 10,
   "id": "8e158118-2946-4044-972a-3d22bd232c50",
   "metadata": {
    "tags": []
   },
   "outputs": [
    {
     "name": "stdout",
     "output_type": "stream",
     "text": [
      "0     2\n",
      "1    25\n",
      "2     2\n",
      "3     2\n",
      "4    12\n",
      "5     9\n",
      "6     5\n",
      "7    13\n",
      "8    10\n",
      "9     8\n",
      "Name: true_labels, dtype: int64 0     2\n",
      "1    22\n",
      "2     1\n",
      "3     2\n",
      "4     7\n",
      "5    11\n",
      "6     5\n",
      "7    12\n",
      "8     9\n",
      "9     8\n",
      "Name: 0.04, dtype: int64 int64\n"
     ]
    }
   ],
   "source": [
    "x = table['true_labels']\n",
    "y = table['0.04']\n",
    "print(x,y, x.dtype)"
   ]
  },
  {
   "cell_type": "code",
   "execution_count": 12,
   "id": "9c3fcbda-b445-442e-a9bd-54943e8a1b92",
   "metadata": {},
   "outputs": [],
   "source": [
    "means = (x + y) / 2\n",
    "diffs = y - x\n"
   ]
  },
  {
   "cell_type": "code",
   "execution_count": 23,
   "id": "2fd6ffc2-b8ba-444e-8613-45249e2b1eed",
   "metadata": {},
   "outputs": [
    {
     "name": "stdout",
     "output_type": "stream",
     "text": [
      "For the differences, x̄ = -0.90 and s = 1.91\n"
     ]
    }
   ],
   "source": [
    "# Average difference (aka the bias)\n",
    "bias = np.mean(diffs)\n",
    "# Sample standard deviation\n",
    "s = np.std(diffs, ddof=1)  # Use ddof=1 to get the sample standard deviation\n",
    "\n",
    "print(f'For the differences, x̄ = {bias:.2f} and s = {s:.2f}')"
   ]
  },
  {
   "cell_type": "code",
   "execution_count": 24,
   "id": "021d114e-a99b-4443-8c42-81de24f20d4f",
   "metadata": {},
   "outputs": [
    {
     "name": "stdout",
     "output_type": "stream",
     "text": [
      "The limits of agreement are 2.85 and -4.65\n"
     ]
    }
   ],
   "source": [
    "# Limits of agreement (LOAs)\n",
    "upper_loa = bias + 1.96 * s\n",
    "lower_loa = bias - 1.96 * s\n",
    "\n",
    "print(f'The limits of agreement are {upper_loa:.2f} and {lower_loa:.2f}')"
   ]
  },
  {
   "cell_type": "code",
   "execution_count": 25,
   "id": "488c23df-619a-46e9-a965-d95725df17c9",
   "metadata": {
    "tags": []
   },
   "outputs": [
    {
     "name": "stdout",
     "output_type": "stream",
     "text": [
      "95% of normally distributed data lies within 1.959963984540054σ of the mean\n"
     ]
    }
   ],
   "source": [
    "# Confidence level\n",
    "C = 0.95  # 95%\n",
    "\n",
    "# Significance level, α\n",
    "alpha = 1 - C\n",
    "\n",
    "# Number of tails\n",
    "tails = 2\n",
    "\n",
    "# Quantile (the cumulative probability)\n",
    "q = 1 - (alpha / tails)\n",
    "\n",
    "# Critical z-score, calculated using the percent-point function (aka the\n",
    "# quantile function) of the normal distribution\n",
    "z_star = st.norm.ppf(q)\n",
    "\n",
    "print(f'95% of normally distributed data lies within {z_star}σ of the mean')"
   ]
  },
  {
   "cell_type": "code",
   "execution_count": 26,
   "id": "91c99978-ba81-4144-b81a-07c3ad91eb04",
   "metadata": {
    "tags": []
   },
   "outputs": [
    {
     "name": "stdout",
     "output_type": "stream",
     "text": [
      "The limits of agreement are (-4.647354551337023, 2.847354551337023)\n"
     ]
    }
   ],
   "source": [
    "# Limits of agreement (LOAs)\n",
    "loas = (bias - z_star * s, bias + z_star * s)\n",
    "\n",
    "print(f'The limits of agreement are {loas}')"
   ]
  },
  {
   "cell_type": "code",
   "execution_count": 27,
   "id": "3994741b-eae5-44e0-9741-d54558714f7f",
   "metadata": {
    "tags": []
   },
   "outputs": [
    {
     "name": "stdout",
     "output_type": "stream",
     "text": [
      "[-4.65  2.85]\n"
     ]
    }
   ],
   "source": [
    "# Limits of agreement (LOAs)\n",
    "loas = st.norm.interval(C, bias, s)\n",
    "\n",
    "print(np.round(loas, 2))"
   ]
  },
  {
   "cell_type": "code",
   "execution_count": 30,
   "id": "6199d334-3b1c-4533-9ef4-4983127d2d17",
   "metadata": {},
   "outputs": [
    {
     "data": {
      "image/png": "[encoded data removed]",
      "text/plain": [
       "<Figure size 827.668x585.308 with 1 Axes>"
      ]
     },
     "metadata": {},
     "output_type": "display_data"
    }
   ],
   "source": [
    "# Create plot\n",
    "ax = plt.axes()\n",
    "ax.scatter(means, diffs, c='k', s=20, alpha=0.6, marker='o')\n",
    "# Plot the zero line\n",
    "ax.axhline(y=0, c='k', lw=0.5)\n",
    "# Plot the bias and the limits of agreement\n",
    "ax.axhline(y=loas[1], c='grey', ls='--')\n",
    "ax.axhline(y=bias, c='grey', ls='--')\n",
    "ax.axhline(y=loas[0], c='grey', ls='--')\n",
    "# Labels\n",
    "#ax.set_title('Bland-Altman Plot for Two Methods of Measuring PEFR')\n",
    "ax.set_xlabel('Mean of the two methods')\n",
    "ax.set_ylabel('Threshold detected foci - Human annotated foci')\n",
    "# Get axis limits\n",
    "left, right = ax.get_xlim()\n",
    "bottom, top = ax.get_ylim()\n",
    "# Set y-axis limits\n",
    "max_y = max(abs(bottom), abs(top))\n",
    "ax.set_ylim(-max_y * 1.1, max_y * 1.1)\n",
    "# Set x-axis limits\n",
    "domain = right - left\n",
    "ax.set_xlim(left, left + domain * 1.1)\n",
    "# Annotations\n",
    "ax.annotate('Upper LoA', (right-1.6, upper_loa), (0, 7), textcoords='offset pixels')\n",
    "ax.annotate(f'{upper_loa:+4.2f}', (right, upper_loa+0.25), (0, -25), textcoords='offset pixels')\n",
    "ax.annotate('Bias', (right, bias), (0, 7), textcoords='offset pixels')\n",
    "ax.annotate(f'{bias:+4.2f}', (right, bias+0.25), (0, -25), textcoords='offset pixels')\n",
    "ax.annotate('Lower LoA', (right-1.6, lower_loa), (0, 7), textcoords='offset pixels')\n",
    "ax.annotate(f'{lower_loa:+4.2f}', (right, lower_loa+0.25), (0, -25), textcoords='offset pixels')\n",
    "\n",
    "# Show plot\n",
    "plt.show()"
   ]
  }
 ],
 "metadata": {
  "kernelspec": {
   "display_name": "Python 3 (ipykernel)",
   "language": "python",
   "name": "python3"
  },
  "language_info": {
   "codemirror_mode": {
    "name": "ipython",
    "version": 3
   },
   "file_extension": ".py",
   "mimetype": "text/x-python",
   "name": "python",
   "nbconvert_exporter": "python",
   "pygments_lexer": "ipython3",
   "version": "3.9.16"
  }
 },
 "nbformat": 4,
 "nbformat_minor": 5
}
