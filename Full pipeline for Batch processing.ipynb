{
 "cells": [
  {
   "cell_type": "markdown",
   "id": "f64e2494-897b-4513-953f-5daa7927e166",
   "metadata": {
    "tags": []
   },
   "source": [
    "# Batch processing of single cell images for full image analysis pipeline"
   ]
  },
  {
   "cell_type": "code",
   "execution_count": 1,
   "id": "a792ce05-6a70-49f4-ac86-0877959fc0fe",
   "metadata": {
    "tags": []
   },
   "outputs": [],
   "source": [
    "from aicsimageio import AICSImage\n",
    "from skimage.feature import peak_local_max\n",
    "import pyclesperanto_prototype as cle\n",
    "import napari\n",
    "import os\n",
    "import numpy as np\n",
    "import pandas as pd"
   ]
  },
  {
   "cell_type": "markdown",
   "id": "e7799474-b315-4b31-af52-2d92e5e74d19",
   "metadata": {
    "tags": []
   },
   "source": [
    "## Functions"
   ]
  },
  {
   "cell_type": "code",
   "execution_count": 2,
   "id": "736a3d52-1f2f-424f-9bef-56a546421b64",
   "metadata": {
    "tags": []
   },
   "outputs": [],
   "source": [
    "def segmentation(image, threshold, zoom_factor):\n",
    "    \n",
    "    #Noise removal\n",
    "    g_blur = cle.gaussian_blur(image, sigma_x=1, sigma_y=1, sigma_z=1)\n",
    "    \n",
    "    #background subtracton\n",
    "    background_subtracted = np.asarray(cle.top_hat_box(g_blur, radius_x=2*zoom_factor, radius_y=2*zoom_factor, radius_z=2*zoom_factor))\n",
    "    del g_blur\n",
    "    \n",
    "    #threshold = threshold_otsu(background_subtracted)\n",
    "    peaks = peak_local_max(background_subtracted, threshold_abs=threshold, min_distance=2)\n",
    "    \n",
    "    # Find local peaks above the specified threshold\n",
    "    spots = cle.create(image.shape, dtype=np.uint32)\n",
    "    peaks = peaks[:,::-1]\n",
    "        \n",
    "    # Convert the list of peaks to a labeled image\n",
    "    labeled_spots = cle.pointlist_to_labelled_spots(peaks.T, spots)\n",
    "    \n",
    "    # Expand the labeled spots by a certain radius\n",
    "    expanded_labels = cle.dilate_labels(labeled_spots, radius=5)\n",
    "    \n",
    "    #Create a binary mask where all pixels above half of the maximum intensity in each labels are 1\n",
    "    #This is done to perform full-width half-maxima for estimating foci boundary\n",
    "    threshold_map = cle.maximum_intensity_map(background_subtracted, expanded_labels) / 2\n",
    "    thresholded_image = np.asarray(background_subtracted) > np.asarray(threshold_map)\n",
    "    \n",
    "    labeled_foci = (expanded_labels * thresholded_image).astype(np.uint32)\n",
    "    \n",
    "    #Exclude small labels\n",
    "    output_labels = cle.exclude_small_labels(labeled_foci, None, 10.0)\n",
    "    \n",
    "    del peaks\n",
    "    del background_subtracted\n",
    "    del spots\n",
    "    del labeled_spots\n",
    "    del labeled_whatever\n",
    "    del expanded_labels\n",
    "    del threshold_map\n",
    "    del thresholded_image\n",
    "    del image\n",
    "    \n",
    "    return output_labels"
   ]
  },
  {
   "cell_type": "code",
   "execution_count": 3,
   "id": "a8883d45-badd-4341-a547-709c2d0350a6",
   "metadata": {
    "tags": []
   },
   "outputs": [],
   "source": [
    "def extract_frame_features(Measurements : pd.DataFrame, image_name : str, pixel_volume : float):\n",
    "    frame_features = pd.DataFrame({'Image_name' : [image_name]})\n",
    "    frame_features = frame_features.assign(\n",
    "        \n",
    "        #Number of nuclei\n",
    "        Foci_count = Measurements['label'].count(),\n",
    "\n",
    "        \n",
    "        #Nuclei Volume stats\n",
    "        Size_mean  = Measurements['area'].mean() * pixel_volume,\n",
    "        Size_std   = Measurements['area'].std() * pixel_volume,\n",
    "        \n",
    "    )\n",
    "    return frame_features"
   ]
  },
  {
   "cell_type": "markdown",
   "id": "1375e542-0298-45af-9339-b73d333f23eb",
   "metadata": {},
   "source": [
    "## Folder processing"
   ]
  },
  {
   "cell_type": "code",
   "execution_count": 4,
   "id": "bca5e631-2472-4e0b-a487-8eaf826628b0",
   "metadata": {
    "tags": []
   },
   "outputs": [],
   "source": [
    "stack_folder_name = '#4695 - 06.06.2023'\n",
    "dataset_folder = r'C:\\Nisarg\\Thesis\\Data'\n",
    "list_of_cell_summary_dataframes = []"
   ]
  },
  {
   "cell_type": "code",
   "execution_count": 5,
   "id": "c255f91f-a1f9-4add-8d87-e8deb62ddb48",
   "metadata": {
    "tags": []
   },
   "outputs": [
    {
     "name": "stdout",
     "output_type": "stream",
     "text": [
      "C:\\Nisarg\\Thesis\\Data\\#4695 - 06.06.2023 \n",
      " C:\\Nisarg\\Thesis\\Data\\#4695 - 06.06.2023\\Measurements \n",
      " C:\\Nisarg\\Thesis\\Data\\#4695 - 06.06.2023\\#4695 - 06.06.2023_Summary.csv\n"
     ]
    }
   ],
   "source": [
    "stack_folder = os.path.join(dataset_folder, stack_folder_name)\n",
    "\n",
    "measurements_folder = os.path.join(stack_folder, 'Measurements')\n",
    "if not os.path.exists(measurements_folder):\n",
    "    os.mkdir(measurements_folder)\n",
    "    \n",
    "Summary_filepath = os.path.join(stack_folder, stack_folder_name  + '_Summary.csv')\n",
    "print(stack_folder, '\\n', measurements_folder, '\\n', Summary_filepath)"
   ]
  },
  {
   "cell_type": "code",
   "execution_count": 6,
   "id": "70ad2dec-845c-44e5-bf0b-6d364e69b003",
   "metadata": {
    "tags": []
   },
   "outputs": [
    {
     "data": {
      "text/plain": [
       "['#4695_11_W100_native_zstack_0.2%_airy.czi',\n",
       " '#4695_12_W100_native_zstack_0.2%_airy.czi',\n",
       " '#4695_13_W100_native_zstack_0.3%_airy.czi',\n",
       " '#4695_14_W100_native_zstack_0.2%_airy.czi']"
      ]
     },
     "execution_count": 6,
     "metadata": {},
     "output_type": "execute_result"
    }
   ],
   "source": [
    "file_names = os.listdir(stack_folder)\n",
    "\n",
    "file_names_filtered = []\n",
    "for file_name in file_names:\n",
    "    if file_name.find('airy') >=0 and file_name.find('.czi') >= 0:\n",
    "        file_names_filtered.append(file_name)\n",
    "file_names_filtered"
   ]
  },
  {
   "cell_type": "markdown",
   "id": "72117d47-0e4b-4ec9-8d88-5fe9c041c840",
   "metadata": {},
   "source": [
    "## Batch Processing"
   ]
  },
  {
   "cell_type": "code",
   "execution_count": 7,
   "id": "a8b7dabc-84c2-4315-975c-09513ffea2fd",
   "metadata": {
    "tags": []
   },
   "outputs": [],
   "source": [
    "#Threshold value for segmentation | 0.04 for WT and WT/E82X | 0.08 for E82X\n",
    "threshold = 0.04"
   ]
  },
  {
   "cell_type": "code",
   "execution_count": 9,
   "id": "f7fabc4d-edcc-4804-affb-6730fc148d82",
   "metadata": {
    "scrolled": true,
    "tags": []
   },
   "outputs": [
    {
     "name": "stdout",
     "output_type": "stream",
     "text": [
      "#4695_11_W100_native_zstack_0.2%_airy.czi\n",
      "#4695_12_W100_native_zstack_0.2%_airy.czi\n",
      "#4695_13_W100_native_zstack_0.3%_airy.czi\n",
      "#4695_14_W100_native_zstack_0.2%_airy.czi\n"
     ]
    }
   ],
   "source": [
    "for file_name in file_names_filtered:\n",
    "    \n",
    "    #Reading image data    \n",
    "    image_name = file_name\n",
    "    aics_image = AICSImage(os.path.join(stack_folder, image_name))\n",
    "    image = aics_image.get_image_data(\"ZYX\", T=0, C=0)\n",
    "    Voxel_size_z = aics_image.physical_pixel_sizes.Z\n",
    "    Voxel_size_y = aics_image.physical_pixel_sizes.Y\n",
    "    Voxel_size_x = aics_image.physical_pixel_sizes.X\n",
    "    \n",
    "    \n",
    "    #Normalization\n",
    "    image = image/image.max()\n",
    "    \n",
    "    #Rescale to isotropic\n",
    "    zoom_factor = 3\n",
    "    rescaled = cle.scale(image, factor_x= zoom_factor*(Voxel_size_x/Voxel_size_z), factor_y= zoom_factor*(Voxel_size_y/Voxel_size_z), factor_z= zoom_factor*(1.0), auto_size= True)\n",
    "    pixel_volume = pow((Voxel_size_z / zoom_factor), 3)\n",
    "    del image\n",
    "\n",
    "    #Comute and save labels\n",
    "    labels = segmentation(rescaled, threshold, zoom_factor)\n",
    "    \n",
    "    print(image_name)\n",
    "    \n",
    "    features = cle.statistics_of_labelled_pixels(label_image=labels)\n",
    "    features = pd.DataFrame(features)\n",
    "    features = features[['label', 'area' ]]\n",
    "    del labels\n",
    "    \n",
    "    features_filename = image_name + '_measurements.csv'\n",
    "    features_path = os.path.join(measurements_folder, features_filename)\n",
    "    features.to_csv(features_path, sep=',', index_label='index')\n",
    "    \n",
    "    cell_summary = extract_frame_features(features, image_name, pixel_volume)\n",
    "    list_of_cell_summary_dataframes.append(cell_summary)\n",
    "    "
   ]
  },
  {
   "cell_type": "code",
   "execution_count": 10,
   "id": "049e140f-a726-4ff4-a18c-c5937cf3bb22",
   "metadata": {
    "tags": []
   },
   "outputs": [
    {
     "data": {
      "text/plain": [
       "[                                  Image_name  Foci_count  Size_mean  Size_std\n",
       " 0  #4695_11_W100_native_zstack_0.2%_airy.czi         737   0.038238   0.01527,\n",
       "                                   Image_name  Foci_count  Size_mean  Size_std\n",
       " 0  #4695_12_W100_native_zstack_0.2%_airy.czi         217   0.024786  0.011205,\n",
       "                                   Image_name  Foci_count  Size_mean  Size_std\n",
       " 0  #4695_13_W100_native_zstack_0.3%_airy.czi         389   0.021892  0.009796,\n",
       "                                   Image_name  Foci_count  Size_mean  Size_std\n",
       " 0  #4695_14_W100_native_zstack_0.2%_airy.czi         124   0.025615  0.009123]"
      ]
     },
     "execution_count": 10,
     "metadata": {},
     "output_type": "execute_result"
    }
   ],
   "source": [
    "list_of_cell_summary_dataframes"
   ]
  },
  {
   "cell_type": "markdown",
   "id": "4958144c-914d-423e-a831-de01003518e5",
   "metadata": {},
   "source": [
    "# Run at the end of processing whole folder"
   ]
  },
  {
   "cell_type": "code",
   "execution_count": 11,
   "id": "e296fcf8-cb1e-491a-a508-d85029eb3d71",
   "metadata": {
    "tags": []
   },
   "outputs": [
    {
     "data": {
      "text/html": [
       "<div>\n",
       "<style scoped>\n",
       "    .dataframe tbody tr th:only-of-type {\n",
       "        vertical-align: middle;\n",
       "    }\n",
       "\n",
       "    .dataframe tbody tr th {\n",
       "        vertical-align: top;\n",
       "    }\n",
       "\n",
       "    .dataframe thead th {\n",
       "        text-align: right;\n",
       "    }\n",
       "</style>\n",
       "<table border=\"1\" class=\"dataframe\">\n",
       "  <thead>\n",
       "    <tr style=\"text-align: right;\">\n",
       "      <th></th>\n",
       "      <th>Image_name</th>\n",
       "      <th>Foci_count</th>\n",
       "      <th>Size_mean</th>\n",
       "      <th>Size_std</th>\n",
       "    </tr>\n",
       "  </thead>\n",
       "  <tbody>\n",
       "    <tr>\n",
       "      <th>0</th>\n",
       "      <td>#4695_11_W100_native_zstack_0.2%_airy.czi</td>\n",
       "      <td>737</td>\n",
       "      <td>0.038238</td>\n",
       "      <td>0.015270</td>\n",
       "    </tr>\n",
       "    <tr>\n",
       "      <th>1</th>\n",
       "      <td>#4695_12_W100_native_zstack_0.2%_airy.czi</td>\n",
       "      <td>217</td>\n",
       "      <td>0.024786</td>\n",
       "      <td>0.011205</td>\n",
       "    </tr>\n",
       "    <tr>\n",
       "      <th>2</th>\n",
       "      <td>#4695_13_W100_native_zstack_0.3%_airy.czi</td>\n",
       "      <td>389</td>\n",
       "      <td>0.021892</td>\n",
       "      <td>0.009796</td>\n",
       "    </tr>\n",
       "    <tr>\n",
       "      <th>3</th>\n",
       "      <td>#4695_14_W100_native_zstack_0.2%_airy.czi</td>\n",
       "      <td>124</td>\n",
       "      <td>0.025615</td>\n",
       "      <td>0.009123</td>\n",
       "    </tr>\n",
       "  </tbody>\n",
       "</table>\n",
       "</div>"
      ],
      "text/plain": [
       "                                  Image_name  Foci_count  Size_mean  Size_std\n",
       "0  #4695_11_W100_native_zstack_0.2%_airy.czi         737   0.038238  0.015270\n",
       "1  #4695_12_W100_native_zstack_0.2%_airy.czi         217   0.024786  0.011205\n",
       "2  #4695_13_W100_native_zstack_0.3%_airy.czi         389   0.021892  0.009796\n",
       "3  #4695_14_W100_native_zstack_0.2%_airy.czi         124   0.025615  0.009123"
      ]
     },
     "execution_count": 11,
     "metadata": {},
     "output_type": "execute_result"
    }
   ],
   "source": [
    "folder_summary = pd.concat(list_of_cell_summary_dataframes, ignore_index=True)\n",
    "folder_summary"
   ]
  },
  {
   "cell_type": "code",
   "execution_count": 12,
   "id": "b23a5725-0533-437d-be81-602f513dcfdd",
   "metadata": {
    "tags": []
   },
   "outputs": [
    {
     "data": {
      "text/html": [
       "<div>\n",
       "<style scoped>\n",
       "    .dataframe tbody tr th:only-of-type {\n",
       "        vertical-align: middle;\n",
       "    }\n",
       "\n",
       "    .dataframe tbody tr th {\n",
       "        vertical-align: top;\n",
       "    }\n",
       "\n",
       "    .dataframe thead th {\n",
       "        text-align: right;\n",
       "    }\n",
       "</style>\n",
       "<table border=\"1\" class=\"dataframe\">\n",
       "  <thead>\n",
       "    <tr style=\"text-align: right;\">\n",
       "      <th></th>\n",
       "      <th>Image_name</th>\n",
       "      <th>Foci_count</th>\n",
       "      <th>Size_mean</th>\n",
       "      <th>Size_std</th>\n",
       "    </tr>\n",
       "  </thead>\n",
       "  <tbody>\n",
       "    <tr>\n",
       "      <th>0</th>\n",
       "      <td>#4695_11_W100_native_zstack_0.2%_airy.czi</td>\n",
       "      <td>737</td>\n",
       "      <td>0.038238</td>\n",
       "      <td>0.015270</td>\n",
       "    </tr>\n",
       "    <tr>\n",
       "      <th>1</th>\n",
       "      <td>#4695_12_W100_native_zstack_0.2%_airy.czi</td>\n",
       "      <td>217</td>\n",
       "      <td>0.024786</td>\n",
       "      <td>0.011205</td>\n",
       "    </tr>\n",
       "    <tr>\n",
       "      <th>2</th>\n",
       "      <td>#4695_13_W100_native_zstack_0.3%_airy.czi</td>\n",
       "      <td>389</td>\n",
       "      <td>0.021892</td>\n",
       "      <td>0.009796</td>\n",
       "    </tr>\n",
       "    <tr>\n",
       "      <th>3</th>\n",
       "      <td>#4695_14_W100_native_zstack_0.2%_airy.czi</td>\n",
       "      <td>124</td>\n",
       "      <td>0.025615</td>\n",
       "      <td>0.009123</td>\n",
       "    </tr>\n",
       "  </tbody>\n",
       "</table>\n",
       "</div>"
      ],
      "text/plain": [
       "                                  Image_name  Foci_count  Size_mean  Size_std\n",
       "0  #4695_11_W100_native_zstack_0.2%_airy.czi         737   0.038238  0.015270\n",
       "1  #4695_12_W100_native_zstack_0.2%_airy.czi         217   0.024786  0.011205\n",
       "2  #4695_13_W100_native_zstack_0.3%_airy.czi         389   0.021892  0.009796\n",
       "3  #4695_14_W100_native_zstack_0.2%_airy.czi         124   0.025615  0.009123"
      ]
     },
     "execution_count": 12,
     "metadata": {},
     "output_type": "execute_result"
    }
   ],
   "source": [
    "#Sorting list based on number, transfection and autophagy condition\n",
    "folder_summary =pd.DataFrame(\n",
    "    sorted(folder_summary.values, key=lambda x: x[0].split('_')[1:4][::-1]), \n",
    "    columns=folder_summary.columns\n",
    ")\n",
    "folder_summary"
   ]
  },
  {
   "cell_type": "code",
   "execution_count": 12,
   "id": "5cd58ff6-b025-485a-b917-7e2fdaebbf9e",
   "metadata": {
    "tags": []
   },
   "outputs": [],
   "source": [
    "folder_summary.to_csv(Summary_filepath, sep=',', index_label='index')"
   ]
  }
 ],
 "metadata": {
  "kernelspec": {
   "display_name": "Python 3 (ipykernel)",
   "language": "python",
   "name": "python3"
  },
  "language_info": {
   "codemirror_mode": {
    "name": "ipython",
    "version": 3
   },
   "file_extension": ".py",
   "mimetype": "text/x-python",
   "name": "python",
   "nbconvert_exporter": "python",
   "pygments_lexer": "ipython3",
   "version": "3.9.16"
  }
 },
 "nbformat": 4,
 "nbformat_minor": 5
}
